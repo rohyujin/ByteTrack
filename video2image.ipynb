{
 "cells": [
  {
   "cell_type": "code",
   "execution_count": 1,
   "id": "0ecb6ca8",
   "metadata": {},
   "outputs": [],
   "source": [
    "import cv2\n",
    "import os\n",
    "from tqdm import tqdm\n",
    "\n",
    "from pathlib import Path"
   ]
  },
  {
   "cell_type": "code",
   "execution_count": 2,
   "id": "1171e7d9",
   "metadata": {},
   "outputs": [],
   "source": [
    "root_path = 'Dataset/BlackBox/{video_div}/'\n",
    "video_div_list = ['Driving', 'Driving_Shock']\n",
    "root_save_path = 'Dataset/BlackBox/{video_div}_png/'"
   ]
  },
  {
   "cell_type": "code",
   "execution_count": 3,
   "id": "da3be082",
   "metadata": {},
   "outputs": [
    {
     "name": "stderr",
     "output_type": "stream",
     "text": [
      "113it [7:30:11, 239.04s/it]\n",
      "120it [2:42:30, 81.25s/it]\n"
     ]
    }
   ],
   "source": [
    "for video_div_name in video_div_list:\n",
    "    video_path = root_path.format(video_div = video_div_name)\n",
    "    save_path = root_save_path.format(video_div = video_div_name)\n",
    "    \n",
    "    Path(save_path).mkdir(parents=True, exist_ok=True)\n",
    "    \n",
    "    file_list = sorted([_ for _ in os.listdir(video_path) if 'MP4' in _.upper()])\n",
    "    \n",
    "    for file_idx, filename in tqdm(enumerate(file_list)):\n",
    "        filepath = os.path.join(video_path, filename).replace('\\\\', '/')\n",
    "        save_video_path = os.path.join(save_path, filename.split('.MP4')[0]).replace('\\\\', '/')\n",
    "    \n",
    "        Path(save_video_path).mkdir(parents=True, exist_ok=True)\n",
    "        \n",
    "        count = 1\n",
    "\n",
    "        vidcap = cv2.VideoCapture(filepath)\n",
    "\n",
    "        while(vidcap.isOpened()):\n",
    "            ret, image = vidcap.read()\n",
    "\n",
    "            if(ret == False):\n",
    "                break\n",
    "            \n",
    "            save_filename = 'image_%05d.png' % count\n",
    "            \n",
    "            cv2.imwrite(os.path.join(save_video_path, save_filename), image)\n",
    "            \n",
    "            count += 1\n",
    "\n",
    "        vidcap.release()"
   ]
  },
  {
   "cell_type": "code",
   "execution_count": null,
   "id": "5c695f34",
   "metadata": {},
   "outputs": [],
   "source": []
  }
 ],
 "metadata": {
  "kernelspec": {
   "display_name": "Python 3 (ipykernel)",
   "language": "python",
   "name": "python3"
  },
  "language_info": {
   "codemirror_mode": {
    "name": "ipython",
    "version": 3
   },
   "file_extension": ".py",
   "mimetype": "text/x-python",
   "name": "python",
   "nbconvert_exporter": "python",
   "pygments_lexer": "ipython3",
   "version": "3.9.12"
  }
 },
 "nbformat": 4,
 "nbformat_minor": 5
}
