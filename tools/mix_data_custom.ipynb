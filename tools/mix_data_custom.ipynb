{
 "cells": [
  {
   "cell_type": "code",
   "execution_count": 1,
   "id": "2c2a0ec9",
   "metadata": {},
   "outputs": [],
   "source": [
    "import json\n",
    "import os"
   ]
  },
  {
   "cell_type": "code",
   "execution_count": 2,
   "id": "6af70fd1",
   "metadata": {},
   "outputs": [
    {
     "data": {
      "text/plain": [
       "'\\n(In cmd)\\ncd datasets\\nmkdir mix_custom\\x07nnotations\\nxcopy /s pedestrian\\x07nnotations\\train.json mix_custom\\x07nnotations\\n(In Powershell)\\ncd D:\\ryj\\\\workspace\\\\Bytetrack\\\\datasets\\\\mix_custom\\nNew-Item -ItemType SymbolicLink -Path \".\" -Target \"..\\\\pedestrian\" -Name \"pedestrian\"\\n'"
      ]
     },
     "execution_count": 2,
     "metadata": {},
     "output_type": "execute_result"
    }
   ],
   "source": [
    "\"\"\"\n",
    "(In cmd)\n",
    "cd datasets\n",
    "mkdir mix_custom\\annotations\n",
    "xcopy /s pedestrian\\annotations\\train.json mix_custom\\annotations\\\n",
    "\n",
    "(In Powershell)\n",
    "cd D:\\ryj\\workspace\\Bytetrack\\datasets\\mix_custom\n",
    "New-Item -ItemType SymbolicLink -Path \".\" -Target \"..\\pedestrian\" -Name \"pedestrian\"\n",
    "\"\"\""
   ]
  },
  {
   "cell_type": "code",
   "execution_count": 18,
   "id": "141517d6",
   "metadata": {},
   "outputs": [],
   "source": [
    "# max_video = 1\n",
    "# max_img = 0\n",
    "# max_ann = 25000000\n",
    "\n",
    "# img_list = list()\n",
    "# ann_list = list()\n",
    "\n",
    "# video_list = []\n",
    "# category_list = []\n",
    "\n",
    "# video_list.append({\n",
    "#     'id': max_video,\n",
    "#     'file_name': 'custom'\n",
    "# })\n",
    "\n",
    "# category_list.append({\n",
    "#     \"id\": 1,\n",
    "#     \"name\": \"pedestrian\"\n",
    "# })\n",
    "\n",
    "# print('Custom Dataset')\n",
    "\n",
    "# custom_json = json.load(open('../datasets/pedestrian/annotations/train.json','r'))\n",
    "# img_id_count = 0\n",
    "# for img in custom_json['images']:\n",
    "#     img_id_count += 1\n",
    "# #     img['file_name'] = 'pedestrian/' + img['file_name'][11:]\n",
    "#     img['frame_id'] = img_id_count\n",
    "#     img['prev_image_id'] = img['id'] + max_img\n",
    "#     img['next_image_id'] = img['id'] + max_img\n",
    "#     img['id'] = img['id'] + max_img\n",
    "#     img['video_id'] = max_video\n",
    "#     img_list.append(img)\n",
    "    \n",
    "# for ann in custom_json['annotations']:\n",
    "#     ann['id'] = ann['id'] + max_ann\n",
    "#     ann['image_id'] = ann['image_id'] + max_img\n",
    "#     ann_list.append(ann)\n",
    "\n",
    "# mix_json = dict()\n",
    "# mix_json['images'] = img_list\n",
    "# mix_json['annotations'] = ann_list\n",
    "# mix_json['videos'] = video_list\n",
    "# mix_json['categories'] = category_list\n",
    "# json.dump(mix_json, open('../datasets/mix_custom/annotations/train.json','w'))\n"
   ]
  },
  {
   "cell_type": "code",
   "execution_count": 20,
   "id": "e10e6b81",
   "metadata": {},
   "outputs": [],
   "source": [
    "mot_json = json.load(open('../datasets/pedestrian/annotations/train.json','r'))\n",
    "\n",
    "img_list = list()\n",
    "for img in mot_json['images']:\n",
    "    img['file_name'] = 'pedestrian/' + img['file_name']\n",
    "    img_list.append(img)\n",
    "\n",
    "ann_list = list()\n",
    "for ann in mot_json['annotations']:\n",
    "    ann_list.append(ann)\n",
    "\n",
    "video_list = mot_json['videos']\n",
    "category_list = mot_json['categories']\n",
    "\n",
    "mix_json = dict()\n",
    "mix_json['images'] = img_list\n",
    "mix_json['annotations'] = ann_list\n",
    "mix_json['videos'] = video_list\n",
    "mix_json['categories'] = category_list\n",
    "json.dump(mix_json, open('../datasets/mix_custom/annotations/train.json','w'))"
   ]
  },
  {
   "cell_type": "code",
   "execution_count": null,
   "id": "acb0db70",
   "metadata": {},
   "outputs": [],
   "source": []
  }
 ],
 "metadata": {
  "kernelspec": {
   "display_name": "[py38_bytetrack]",
   "language": "python",
   "name": "bytetrack"
  },
  "language_info": {
   "codemirror_mode": {
    "name": "ipython",
    "version": 3
   },
   "file_extension": ".py",
   "mimetype": "text/x-python",
   "name": "python",
   "nbconvert_exporter": "python",
   "pygments_lexer": "ipython3",
   "version": "3.8.13"
  }
 },
 "nbformat": 4,
 "nbformat_minor": 5
}
